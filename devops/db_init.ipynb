{
 "cells": [
  {
   "cell_type": "code",
   "execution_count": 6,
   "metadata": {},
   "outputs": [
    {
     "data": {
      "text/html": [
       "<div>\n",
       "<style scoped>\n",
       "    .dataframe tbody tr th:only-of-type {\n",
       "        vertical-align: middle;\n",
       "    }\n",
       "\n",
       "    .dataframe tbody tr th {\n",
       "        vertical-align: top;\n",
       "    }\n",
       "\n",
       "    .dataframe thead th {\n",
       "        text-align: right;\n",
       "    }\n",
       "</style>\n",
       "<table border=\"1\" class=\"dataframe\">\n",
       "  <thead>\n",
       "    <tr style=\"text-align: right;\">\n",
       "      <th></th>\n",
       "      <th>单词</th>\n",
       "      <th>音标美</th>\n",
       "      <th>音标英</th>\n",
       "      <th>意思</th>\n",
       "    </tr>\n",
       "  </thead>\n",
       "  <tbody>\n",
       "    <tr>\n",
       "      <th>0</th>\n",
       "      <td>a cushion of</td>\n",
       "      <td></td>\n",
       "      <td></td>\n",
       "      <td>网络一层</td>\n",
       "    </tr>\n",
       "    <tr>\n",
       "      <th>1</th>\n",
       "      <td>a few</td>\n",
       "      <td></td>\n",
       "      <td></td>\n",
       "      <td>na.几个；〔反语〕很多；〈俚〉一点点 网络意思：一些；有些；少量</td>\n",
       "    </tr>\n",
       "    <tr>\n",
       "      <th>2</th>\n",
       "      <td>a good deal</td>\n",
       "      <td></td>\n",
       "      <td></td>\n",
       "      <td>na.“a deal”的变体 网络意思：许多；大量；诸多</td>\n",
       "    </tr>\n",
       "    <tr>\n",
       "      <th>3</th>\n",
       "      <td>a great deal</td>\n",
       "      <td></td>\n",
       "      <td></td>\n",
       "      <td>na.很多 网络意思：大量；许多；大量的</td>\n",
       "    </tr>\n",
       "    <tr>\n",
       "      <th>4</th>\n",
       "      <td>a little</td>\n",
       "      <td></td>\n",
       "      <td></td>\n",
       "      <td>n.一点 网络意思：一些；少许；有点</td>\n",
       "    </tr>\n",
       "  </tbody>\n",
       "</table>\n",
       "</div>"
      ],
      "text/plain": [
       "             单词 音标美 音标英                                 意思\n",
       "0  a cushion of                                       网络一层\n",
       "1         a few          na.几个；〔反语〕很多；〈俚〉一点点 网络意思：一些；有些；少量\n",
       "2   a good deal               na.“a deal”的变体 网络意思：许多；大量；诸多\n",
       "3  a great deal                       na.很多 网络意思：大量；许多；大量的\n",
       "4      a little                         n.一点 网络意思：一些；少许；有点"
      ]
     },
     "execution_count": 6,
     "metadata": {},
     "output_type": "execute_result"
    }
   ],
   "source": [
    "import pandas as pd\n",
    "\n",
    "df_source = pd.read_excel('~/Downloads/english_words_12931.xlsx')\n",
    "df_source['音标美'].fillna('', inplace=True)\n",
    "df_source['音标英'].fillna('', inplace=True)\n",
    "df_source.head()"
   ]
  },
  {
   "cell_type": "code",
   "execution_count": 11,
   "metadata": {},
   "outputs": [],
   "source": [
    "from pymongo import MongoClient\n",
    "\n",
    "CONNECTION_STRING = 'mongodb://localhost:27017/quiz-book'\n",
    "BATCH_INSERT_COUNT = 30\n",
    "\n",
    "client = MongoClient(CONNECTION_STRING)\n",
    "\n",
    "english_words_v1 = client['quiz-book']['english_words_v1']\n",
    "\n",
    "records_to_insert = []\n",
    "for i, row in df_source.iterrows():\n",
    "    record = {\n",
    "        'en': row['单词'],\n",
    "        'phonetic_us': row['音标美'].replace('美', '').strip(),\n",
    "        'phonetic_br': row['音标英'].replace('英', '').strip(),\n",
    "        'zh': row['意思']\n",
    "    }\n",
    "\n",
    "    records_to_insert.append(record)\n",
    "\n",
    "    if len(records_to_insert) >= BATCH_INSERT_COUNT:\n",
    "        english_words_v1.insert_many(records_to_insert)\n",
    "        records_to_insert = []\n",
    "\n",
    "if len(records_to_insert) > 0:\n",
    "    english_words_v1.insert_many(records_to_insert)"
   ]
  }
 ],
 "metadata": {
  "kernelspec": {
   "display_name": "Python 3.10.4 ('flask_test')",
   "language": "python",
   "name": "python3"
  },
  "language_info": {
   "codemirror_mode": {
    "name": "ipython",
    "version": 3
   },
   "file_extension": ".py",
   "mimetype": "text/x-python",
   "name": "python",
   "nbconvert_exporter": "python",
   "pygments_lexer": "ipython3",
   "version": "3.10.4"
  },
  "orig_nbformat": 4,
  "vscode": {
   "interpreter": {
    "hash": "447a7f379270a63d480126b0347e39051673ff15df8387318942a156c22647b4"
   }
  }
 },
 "nbformat": 4,
 "nbformat_minor": 2
}
