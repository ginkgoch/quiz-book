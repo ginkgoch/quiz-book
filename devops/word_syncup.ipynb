{
 "cells": [
  {
   "cell_type": "code",
   "execution_count": 23,
   "metadata": {},
   "outputs": [],
   "source": [
    "from pymongo import MongoClient\n",
    "import json\n",
    "from os import path\n",
    "import pandas as pd\n",
    "\n",
    "CONNECTION_STRING = 'mongodb://localhost:27017'\n",
    "DATABASE = 'quiz-book'\n",
    "COLLECTION_ENGLISH_WORDS = 'english_words_v1'\n",
    "\n",
    "\n",
    "client = MongoClient(CONNECTION_STRING)\n",
    "db = client[DATABASE]\n",
    "\n",
    "\n",
    "def load_filepaths():\n",
    "    source_index = '../public/assets/english/words/index.json'\n",
    "\n",
    "    filenames = []\n",
    "\n",
    "    with open(source_index, 'r') as f:\n",
    "        filenames = json.load(f)\n",
    "\n",
    "    pathroot = path.dirname(source_index)\n",
    "    return [path.join(pathroot, fname) for fname in filenames]\n",
    "\n",
    "\n",
    "def load_words(filepath):\n",
    "    \n",
    "    df = pd.read_csv(filepath)\n",
    "    words = df['english'].tolist()\n",
    "\n",
    "    words_cursor = db[COLLECTION_ENGLISH_WORDS].find({\"en\": {\"$in\": words}}, {'_id': 0})\n",
    "    \n",
    "    words_in_dict = [r for r in words_cursor]\n",
    "    # print(words_in_dict)\n",
    "\n",
    "    df_copy = df.copy()\n",
    "    for i, row in df_copy.iterrows():\n",
    "        en = row['english']\n",
    "        current_record = next(filter(lambda r: r['en']==en, words_in_dict), None)\n",
    "        if current_record is not None:\n",
    "            df_copy.at[i, 'symbol'] = current_record['phonetic_us']\n",
    "            if current_record['zh'] is not None and current_record['zh'] != '':\n",
    "                df_copy.at[i, 'chinese'] = current_record['zh']\n",
    "\n",
    "    df_copy.to_csv(filepath, index=False)\n",
    "\n",
    "\n",
    "\n",
    "def test():\n",
    "    client = MongoClient(CONNECTION_STRING)\n",
    "    english_words_v1 = client[DATABASE][COLLECTION_ENGLISH_WORDS]\n",
    "    cursor = english_words_v1.find({'en': 'a'})\n",
    "    arr = [i for i in cursor]\n",
    "    print(arr)\n",
    "\n",
    "\n",
    "def run():\n",
    "    filepaths = load_filepaths()\n",
    "    for fp in filepaths:\n",
    "        load_words(fp)\n",
    "\n",
    "    # test()\n",
    "\n",
    "\n",
    "run()\n",
    "\n",
    "\n",
    "\n",
    "\n",
    "\n",
    "\n",
    "\n"
   ]
  },
  {
   "cell_type": "code",
   "execution_count": 15,
   "metadata": {},
   "outputs": [],
   "source": [
    "a = [0, 1]\n",
    "next(filter(lambda s: s == 2, a), None)"
   ]
  }
 ],
 "metadata": {
  "kernelspec": {
   "display_name": "Python 3.10.4 ('flask_test')",
   "language": "python",
   "name": "python3"
  },
  "language_info": {
   "codemirror_mode": {
    "name": "ipython",
    "version": 3
   },
   "file_extension": ".py",
   "mimetype": "text/x-python",
   "name": "python",
   "nbconvert_exporter": "python",
   "pygments_lexer": "ipython3",
   "version": "3.10.4"
  },
  "orig_nbformat": 4,
  "vscode": {
   "interpreter": {
    "hash": "447a7f379270a63d480126b0347e39051673ff15df8387318942a156c22647b4"
   }
  }
 },
 "nbformat": 4,
 "nbformat_minor": 2
}
