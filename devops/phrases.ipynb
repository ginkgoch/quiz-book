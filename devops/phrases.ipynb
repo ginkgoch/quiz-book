{
 "cells": [
  {
   "cell_type": "code",
   "execution_count": 21,
   "metadata": {},
   "outputs": [],
   "source": [
    "import pandas as pd\n",
    "\n",
    "\n",
    "def _is_chinese(ch):\n",
    "    if '\\u4e00' <= ch <= '\\u9fff':\n",
    "            return True\n",
    "    return False\n",
    "\n",
    "\n",
    "def _split_phrase(line):\n",
    "    for i, s in enumerate(line):\n",
    "        if _is_chinese(s):\n",
    "            if i > 0:\n",
    "                return (line[0:i].strip(), line[i:].strip())\n",
    "\n",
    "    return None\n",
    "\n",
    "\n",
    "\n",
    "def split_phrases():\n",
    "    with open('./phrases.txt') as f:\n",
    "        lines = f.readlines()\n",
    "        lines = list(filter(lambda l: l.strip() != '', lines))\n",
    "        \n",
    "        phrases = list(map(_split_phrase, lines))\n",
    "\n",
    "        phrases_data = list(map(lambda p: list(p), phrases))\n",
    "        df = pd.DataFrame(phrases_data, columns=['english', 'chinese'])\n",
    "        df['source'] = 'x222'\n",
    "        df.to_csv('./phrases.csv', index=False)\n",
    "\n",
    "\n",
    "split_phrases()\n",
    "\n"
   ]
  }
 ],
 "metadata": {
  "kernelspec": {
   "display_name": "Python 3.10.4 ('flask_test')",
   "language": "python",
   "name": "python3"
  },
  "language_info": {
   "codemirror_mode": {
    "name": "ipython",
    "version": 3
   },
   "file_extension": ".py",
   "mimetype": "text/x-python",
   "name": "python",
   "nbconvert_exporter": "python",
   "pygments_lexer": "ipython3",
   "version": "3.10.4"
  },
  "orig_nbformat": 4,
  "vscode": {
   "interpreter": {
    "hash": "447a7f379270a63d480126b0347e39051673ff15df8387318942a156c22647b4"
   }
  }
 },
 "nbformat": 4,
 "nbformat_minor": 2
}
